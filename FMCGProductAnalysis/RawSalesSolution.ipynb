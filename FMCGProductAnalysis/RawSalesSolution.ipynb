{
 "cells": [
  {
   "cell_type": "markdown",
   "id": "78e2e8dd-08b1-4362-a9de-f9d64ba0021e",
   "metadata": {},
   "source": [
    "# FMCG Products Analysis"
   ]
  },
  {
   "cell_type": "markdown",
   "id": "b5e83aa6-df97-4136-aa80-a5bbac2bdbc8",
   "metadata": {},
   "source": [
    "## Pre-processing"
   ]
  },
  {
   "cell_type": "code",
   "execution_count": 74,
   "id": "a5995029-b6c7-4d4b-8b32-8c2acbdb164a",
   "metadata": {
    "tags": []
   },
   "outputs": [],
   "source": [
    "import pandas as pd\n",
    "import numpy as np\n",
    "import string"
   ]
  },
  {
   "cell_type": "code",
   "execution_count": 75,
   "id": "e3222c94-300f-413f-b24d-fe03c39fd96e",
   "metadata": {
    "tags": []
   },
   "outputs": [],
   "source": [
    "df=pd.read_csv(\"Raw Sales Data.csv\")"
   ]
  },
  {
   "cell_type": "code",
   "execution_count": 76,
   "id": "bb1e3c5c-4666-4224-b304-8bed970f5c81",
   "metadata": {
    "tags": []
   },
   "outputs": [
    {
     "data": {
      "text/html": [
       "<div>\n",
       "<style scoped>\n",
       "    .dataframe tbody tr th:only-of-type {\n",
       "        vertical-align: middle;\n",
       "    }\n",
       "\n",
       "    .dataframe tbody tr th {\n",
       "        vertical-align: top;\n",
       "    }\n",
       "\n",
       "    .dataframe thead th {\n",
       "        text-align: right;\n",
       "    }\n",
       "</style>\n",
       "<table border=\"1\" class=\"dataframe\">\n",
       "  <thead>\n",
       "    <tr style=\"text-align: right;\">\n",
       "      <th></th>\n",
       "      <th>Month</th>\n",
       "      <th>Channel</th>\n",
       "      <th>Sub-Channels</th>\n",
       "      <th>Product Name</th>\n",
       "      <th>Category</th>\n",
       "      <th>Qty</th>\n",
       "      <th>Sales</th>\n",
       "    </tr>\n",
       "  </thead>\n",
       "  <tbody>\n",
       "    <tr>\n",
       "      <th>0</th>\n",
       "      <td>01-Dec-20</td>\n",
       "      <td>Marketplace</td>\n",
       "      <td>AMAZON</td>\n",
       "      <td>ALOE + AMLA JUICE 1 L</td>\n",
       "      <td>Juices</td>\n",
       "      <td>1,116</td>\n",
       "      <td>4,28,700</td>\n",
       "    </tr>\n",
       "    <tr>\n",
       "      <th>1</th>\n",
       "      <td>01-Dec-20</td>\n",
       "      <td>Marketplace</td>\n",
       "      <td>AMAZON</td>\n",
       "      <td>ALOE + GARCINIA JUICE 1 L</td>\n",
       "      <td>Juices</td>\n",
       "      <td>3,003</td>\n",
       "      <td>13,74,831</td>\n",
       "    </tr>\n",
       "    <tr>\n",
       "      <th>2</th>\n",
       "      <td>01-Dec-20</td>\n",
       "      <td>Marketplace</td>\n",
       "      <td>AMAZON</td>\n",
       "      <td>ALOE VERA JUICE 1 L</td>\n",
       "      <td>Juices</td>\n",
       "      <td>2,962</td>\n",
       "      <td>7,32,167</td>\n",
       "    </tr>\n",
       "  </tbody>\n",
       "</table>\n",
       "</div>"
      ],
      "text/plain": [
       "       Month      Channel Sub-Channels               Product Name Category  \\\n",
       "0  01-Dec-20  Marketplace       AMAZON      ALOE + AMLA JUICE 1 L   Juices   \n",
       "1  01-Dec-20  Marketplace       AMAZON  ALOE + GARCINIA JUICE 1 L   Juices   \n",
       "2  01-Dec-20  Marketplace       AMAZON        ALOE VERA JUICE 1 L   Juices   \n",
       "\n",
       "       Qty        Sales  \n",
       "0   1,116     4,28,700   \n",
       "1   3,003    13,74,831   \n",
       "2   2,962     7,32,167   "
      ]
     },
     "execution_count": 76,
     "metadata": {},
     "output_type": "execute_result"
    }
   ],
   "source": [
    "df.head(3)"
   ]
  },
  {
   "cell_type": "code",
   "execution_count": 77,
   "id": "391ab3ca-f7cd-4500-9734-b645eb8d0da7",
   "metadata": {
    "tags": []
   },
   "outputs": [
    {
     "name": "stdout",
     "output_type": "stream",
     "text": [
      "<class 'pandas.core.frame.DataFrame'>\n",
      "RangeIndex: 224 entries, 0 to 223\n",
      "Data columns (total 7 columns):\n",
      " #   Column        Non-Null Count  Dtype \n",
      "---  ------        --------------  ----- \n",
      " 0   Month         224 non-null    object\n",
      " 1   Channel       224 non-null    object\n",
      " 2   Sub-Channels  224 non-null    object\n",
      " 3   Product Name  224 non-null    object\n",
      " 4   Category      224 non-null    object\n",
      " 5   Qty           224 non-null    object\n",
      " 6   Sales         224 non-null    object\n",
      "dtypes: object(7)\n",
      "memory usage: 12.4+ KB\n"
     ]
    }
   ],
   "source": [
    "df.info()"
   ]
  },
  {
   "cell_type": "code",
   "execution_count": 78,
   "id": "66a4ea7b-ef07-4f94-bdfe-00d2d9983ba9",
   "metadata": {
    "tags": []
   },
   "outputs": [],
   "source": [
    "df[\"Qty\"]=df[\"Qty\"].str.replace(\",\",\"\").astype(int)"
   ]
  },
  {
   "cell_type": "code",
   "execution_count": 79,
   "id": "6cd4b0c3-2a83-4cbf-ab26-50c96c276d1d",
   "metadata": {
    "tags": []
   },
   "outputs": [],
   "source": [
    "df[\"Sales\"]=df[\"Sales\"].str.replace(\",\",\"\").astype(int)"
   ]
  },
  {
   "cell_type": "code",
   "execution_count": 80,
   "id": "2d1497db-e872-4de4-836f-22c6c6c3c159",
   "metadata": {
    "tags": []
   },
   "outputs": [],
   "source": [
    "df[\"Month\"]=pd.to_datetime(df[\"Month\"],format=\"%d-%b-%y\")\n",
    "# df[\"Month\"].dt.strftime(\"%B\")"
   ]
  },
  {
   "cell_type": "code",
   "execution_count": 81,
   "id": "bc20cf8c-7c3b-4e9b-aaf7-09a988cebe6a",
   "metadata": {},
   "outputs": [],
   "source": [
    "df[\"Date\"]=df[\"Month\"]\n",
    "df[\"Month\"]=df[\"Month\"].dt.strftime(\"%B\")"
   ]
  },
  {
   "cell_type": "markdown",
   "id": "ea0b3803-bd7f-4b4e-9646-d38d5f88a034",
   "metadata": {},
   "source": [
    "## Question 1"
   ]
  },
  {
   "cell_type": "code",
   "execution_count": 82,
   "id": "ced1ff5e-5194-4bea-a6cf-2df793a60ac5",
   "metadata": {
    "tags": []
   },
   "outputs": [
    {
     "data": {
      "text/html": [
       "<div>\n",
       "<style scoped>\n",
       "    .dataframe tbody tr th:only-of-type {\n",
       "        vertical-align: middle;\n",
       "    }\n",
       "\n",
       "    .dataframe tbody tr th {\n",
       "        vertical-align: top;\n",
       "    }\n",
       "\n",
       "    .dataframe thead th {\n",
       "        text-align: right;\n",
       "    }\n",
       "</style>\n",
       "<table border=\"1\" class=\"dataframe\">\n",
       "  <thead>\n",
       "    <tr style=\"text-align: right;\">\n",
       "      <th></th>\n",
       "      <th>Month</th>\n",
       "      <th>Qty</th>\n",
       "    </tr>\n",
       "  </thead>\n",
       "  <tbody>\n",
       "    <tr>\n",
       "      <th>0</th>\n",
       "      <td>December</td>\n",
       "      <td>85427</td>\n",
       "    </tr>\n",
       "    <tr>\n",
       "      <th>1</th>\n",
       "      <td>February</td>\n",
       "      <td>76393</td>\n",
       "    </tr>\n",
       "    <tr>\n",
       "      <th>2</th>\n",
       "      <td>January</td>\n",
       "      <td>67732</td>\n",
       "    </tr>\n",
       "    <tr>\n",
       "      <th>3</th>\n",
       "      <td>March</td>\n",
       "      <td>80229</td>\n",
       "    </tr>\n",
       "  </tbody>\n",
       "</table>\n",
       "</div>"
      ],
      "text/plain": [
       "      Month    Qty\n",
       "0  December  85427\n",
       "1  February  76393\n",
       "2   January  67732\n",
       "3     March  80229"
      ]
     },
     "execution_count": 82,
     "metadata": {},
     "output_type": "execute_result"
    }
   ],
   "source": [
    "# Monthwise number of quantities sold\n",
    "q1=df.groupby(\"Month\")[\"Qty\"].sum().reset_index()\n",
    "q1"
   ]
  },
  {
   "cell_type": "markdown",
   "id": "cc8796c5-8513-4fa3-8b30-52aee256f12a",
   "metadata": {},
   "source": [
    "## Question 2"
   ]
  },
  {
   "cell_type": "code",
   "execution_count": 83,
   "id": "23a4ca68-19f6-4338-adfc-d546330ff0d8",
   "metadata": {
    "tags": []
   },
   "outputs": [
    {
     "data": {
      "text/html": [
       "<div>\n",
       "<style scoped>\n",
       "    .dataframe tbody tr th:only-of-type {\n",
       "        vertical-align: middle;\n",
       "    }\n",
       "\n",
       "    .dataframe tbody tr th {\n",
       "        vertical-align: top;\n",
       "    }\n",
       "\n",
       "    .dataframe thead th {\n",
       "        text-align: right;\n",
       "    }\n",
       "</style>\n",
       "<table border=\"1\" class=\"dataframe\">\n",
       "  <thead>\n",
       "    <tr style=\"text-align: right;\">\n",
       "      <th></th>\n",
       "      <th>Category</th>\n",
       "      <th>Qty</th>\n",
       "    </tr>\n",
       "  </thead>\n",
       "  <tbody>\n",
       "    <tr>\n",
       "      <th>0</th>\n",
       "      <td>Functional nutrition</td>\n",
       "      <td>42354</td>\n",
       "    </tr>\n",
       "    <tr>\n",
       "      <th>1</th>\n",
       "      <td>Gourmet Nutrition</td>\n",
       "      <td>89279</td>\n",
       "    </tr>\n",
       "    <tr>\n",
       "      <th>2</th>\n",
       "      <td>Juices</td>\n",
       "      <td>178148</td>\n",
       "    </tr>\n",
       "  </tbody>\n",
       "</table>\n",
       "</div>"
      ],
      "text/plain": [
       "               Category     Qty\n",
       "0  Functional nutrition   42354\n",
       "1     Gourmet Nutrition   89279\n",
       "2                Juices  178148"
      ]
     },
     "execution_count": 83,
     "metadata": {},
     "output_type": "execute_result"
    }
   ],
   "source": [
    "# Category wise Qty sold\n",
    "q2=df.groupby(\"Category\")[\"Qty\"].sum().reset_index()\n",
    "q2"
   ]
  },
  {
   "cell_type": "markdown",
   "id": "8342d0c8-cb5e-4a24-a020-251847864640",
   "metadata": {},
   "source": [
    "## Question 3"
   ]
  },
  {
   "cell_type": "code",
   "execution_count": 84,
   "id": "11a5d27f-8e4b-4024-87d5-1832d22ff575",
   "metadata": {
    "tags": []
   },
   "outputs": [
    {
     "data": {
      "text/html": [
       "<div>\n",
       "<style scoped>\n",
       "    .dataframe tbody tr th:only-of-type {\n",
       "        vertical-align: middle;\n",
       "    }\n",
       "\n",
       "    .dataframe tbody tr th {\n",
       "        vertical-align: top;\n",
       "    }\n",
       "\n",
       "    .dataframe thead th {\n",
       "        text-align: right;\n",
       "    }\n",
       "</style>\n",
       "<table border=\"1\" class=\"dataframe\">\n",
       "  <thead>\n",
       "    <tr style=\"text-align: right;\">\n",
       "      <th></th>\n",
       "      <th>Sub-Channels</th>\n",
       "      <th>Sales</th>\n",
       "    </tr>\n",
       "  </thead>\n",
       "  <tbody>\n",
       "    <tr>\n",
       "      <th>0</th>\n",
       "      <td>AMAZON</td>\n",
       "      <td>35606804</td>\n",
       "    </tr>\n",
       "    <tr>\n",
       "      <th>1</th>\n",
       "      <td>Big Basket</td>\n",
       "      <td>1207522</td>\n",
       "    </tr>\n",
       "    <tr>\n",
       "      <th>2</th>\n",
       "      <td>D2C</td>\n",
       "      <td>28047538</td>\n",
       "    </tr>\n",
       "    <tr>\n",
       "      <th>3</th>\n",
       "      <td>Flipkart</td>\n",
       "      <td>3770415</td>\n",
       "    </tr>\n",
       "    <tr>\n",
       "      <th>4</th>\n",
       "      <td>GOQII</td>\n",
       "      <td>582600</td>\n",
       "    </tr>\n",
       "    <tr>\n",
       "      <th>5</th>\n",
       "      <td>Offline - Central</td>\n",
       "      <td>375332</td>\n",
       "    </tr>\n",
       "    <tr>\n",
       "      <th>6</th>\n",
       "      <td>Offline - East</td>\n",
       "      <td>811146</td>\n",
       "    </tr>\n",
       "    <tr>\n",
       "      <th>7</th>\n",
       "      <td>Offline - MT</td>\n",
       "      <td>6257948</td>\n",
       "    </tr>\n",
       "    <tr>\n",
       "      <th>8</th>\n",
       "      <td>Offline - South</td>\n",
       "      <td>3446395</td>\n",
       "    </tr>\n",
       "    <tr>\n",
       "      <th>9</th>\n",
       "      <td>Offline - West</td>\n",
       "      <td>6441427</td>\n",
       "    </tr>\n",
       "    <tr>\n",
       "      <th>10</th>\n",
       "      <td>Offline -North</td>\n",
       "      <td>1206564</td>\n",
       "    </tr>\n",
       "  </tbody>\n",
       "</table>\n",
       "</div>"
      ],
      "text/plain": [
       "         Sub-Channels     Sales\n",
       "0              AMAZON  35606804\n",
       "1          Big Basket   1207522\n",
       "2                 D2C  28047538\n",
       "3            Flipkart   3770415\n",
       "4               GOQII    582600\n",
       "5   Offline - Central    375332\n",
       "6      Offline - East    811146\n",
       "7        Offline - MT   6257948\n",
       "8     Offline - South   3446395\n",
       "9      Offline - West   6441427\n",
       "10     Offline -North   1206564"
      ]
     },
     "execution_count": 84,
     "metadata": {},
     "output_type": "execute_result"
    }
   ],
   "source": [
    "# Sub-channel wise total sales\n",
    "q3=df.groupby(\"Sub-Channels\")[\"Sales\"].sum().reset_index()\n",
    "q3"
   ]
  },
  {
   "cell_type": "markdown",
   "id": "a40f9718-7ff2-4a14-93b2-b4f9555c4fb7",
   "metadata": {},
   "source": [
    "## Question 4"
   ]
  },
  {
   "cell_type": "code",
   "execution_count": 92,
   "id": "f6fa8dcd-3d74-43a1-90ae-ac09aded0ab5",
   "metadata": {
    "tags": []
   },
   "outputs": [
    {
     "data": {
      "text/plain": [
       "Month       March\n",
       "Sales    25127827\n",
       "Name: 3, dtype: object"
      ]
     },
     "execution_count": 92,
     "metadata": {},
     "output_type": "execute_result"
    }
   ],
   "source": [
    "# Highest sale in which month\n",
    "# q4=df.groupby(\"Month\")[\"Sales\"].sum().idxmax()\n",
    "# type(df.groupby(\"Month\")[\"Sales\"].sum().reset_index().sort_values(by=\"Sales\",ascending=False).iloc[0])\n",
    "q4=df.groupby(\"Month\")[\"Sales\"].sum().reset_index().sort_values(by=\"Sales\",ascending=False).iloc[0]\n",
    "q4"
   ]
  },
  {
   "cell_type": "code",
   "execution_count": 93,
   "id": "cf1c0a55-2e37-47b4-b435-be36390586e2",
   "metadata": {},
   "outputs": [],
   "source": [
    "# Question 5 approach\n",
    "# Highest selling product (based on sales) (packaging quantity doesn't matter. Ex. consider \"GET SLIM\n",
    "# JUICE 1 L\" and \"GET SLIM JUICE 500 ML\" as one product)\n",
    "\n",
    "# Treating all products as different, the quantities are different so the products are treated as different.\n",
    "# df.groupby(\"Product Name\")[\"Sales\"].sum().idxmax()\n",
    "# df.groupby(\"Product Name\")[\"Sales\"].sum().sort_values().reset_index().sort_values(by=\"Sales\").iloc[0:1,:]\n",
    "\n",
    "# Treating the products as similar even if the quantities are different\n"
   ]
  },
  {
   "cell_type": "markdown",
   "id": "04e46078-43f1-473e-943d-3c26e65b8513",
   "metadata": {},
   "source": [
    "### Converting the products into quantity independent columns"
   ]
  },
  {
   "cell_type": "code",
   "execution_count": 94,
   "id": "4af93d1e-d813-45e7-9b2d-7ada6ed674d0",
   "metadata": {
    "tags": []
   },
   "outputs": [],
   "source": [
    "def quantity_omission(st):\n",
    "    new_st=\"\"\n",
    "    for i in st:\n",
    "        if i in string.digits:\n",
    "            return new_st\n",
    "        else:\n",
    "            new_st=new_st+i"
   ]
  },
  {
   "cell_type": "code",
   "execution_count": 95,
   "id": "7303f998-d5c2-43db-a4bf-7308034dcaa0",
   "metadata": {
    "tags": []
   },
   "outputs": [],
   "source": [
    "# df[\"Product Name\"].apply(quantity_omission).reset_index().groupby(\"Product Name\").count()\n",
    "# df[\"Product Name\"].apply(quantity_omission).reset_index().groupby(\"Product Name\").count().sum()\n",
    "# df[df[\"Product Name\"]==\"ALOE VERA SKIN GEL 500 GM\"].shape[0]"
   ]
  },
  {
   "cell_type": "code",
   "execution_count": 96,
   "id": "1a400698-16c2-42df-b9c4-373351fecb90",
   "metadata": {
    "tags": []
   },
   "outputs": [
    {
     "data": {
      "text/html": [
       "<div>\n",
       "<style scoped>\n",
       "    .dataframe tbody tr th:only-of-type {\n",
       "        vertical-align: middle;\n",
       "    }\n",
       "\n",
       "    .dataframe tbody tr th {\n",
       "        vertical-align: top;\n",
       "    }\n",
       "\n",
       "    .dataframe thead th {\n",
       "        text-align: right;\n",
       "    }\n",
       "</style>\n",
       "<table border=\"1\" class=\"dataframe\">\n",
       "  <thead>\n",
       "    <tr style=\"text-align: right;\">\n",
       "      <th></th>\n",
       "      <th>Month</th>\n",
       "      <th>Channel</th>\n",
       "      <th>Sub-Channels</th>\n",
       "      <th>Product Name</th>\n",
       "      <th>Category</th>\n",
       "      <th>Qty</th>\n",
       "      <th>Sales</th>\n",
       "      <th>Date</th>\n",
       "      <th>Product Name_Clean</th>\n",
       "    </tr>\n",
       "  </thead>\n",
       "  <tbody>\n",
       "    <tr>\n",
       "      <th>0</th>\n",
       "      <td>December</td>\n",
       "      <td>Marketplace</td>\n",
       "      <td>AMAZON</td>\n",
       "      <td>ALOE + AMLA JUICE 1 L</td>\n",
       "      <td>Juices</td>\n",
       "      <td>1116</td>\n",
       "      <td>428700</td>\n",
       "      <td>2020-12-01</td>\n",
       "      <td>ALOE + AMLA JUICE</td>\n",
       "    </tr>\n",
       "    <tr>\n",
       "      <th>1</th>\n",
       "      <td>December</td>\n",
       "      <td>Marketplace</td>\n",
       "      <td>AMAZON</td>\n",
       "      <td>ALOE + GARCINIA JUICE 1 L</td>\n",
       "      <td>Juices</td>\n",
       "      <td>3003</td>\n",
       "      <td>1374831</td>\n",
       "      <td>2020-12-01</td>\n",
       "      <td>ALOE + GARCINIA JUICE</td>\n",
       "    </tr>\n",
       "    <tr>\n",
       "      <th>2</th>\n",
       "      <td>December</td>\n",
       "      <td>Marketplace</td>\n",
       "      <td>AMAZON</td>\n",
       "      <td>ALOE VERA JUICE 1 L</td>\n",
       "      <td>Juices</td>\n",
       "      <td>2962</td>\n",
       "      <td>732167</td>\n",
       "      <td>2020-12-01</td>\n",
       "      <td>ALOE VERA JUICE</td>\n",
       "    </tr>\n",
       "  </tbody>\n",
       "</table>\n",
       "</div>"
      ],
      "text/plain": [
       "      Month      Channel Sub-Channels               Product Name Category  \\\n",
       "0  December  Marketplace       AMAZON      ALOE + AMLA JUICE 1 L   Juices   \n",
       "1  December  Marketplace       AMAZON  ALOE + GARCINIA JUICE 1 L   Juices   \n",
       "2  December  Marketplace       AMAZON        ALOE VERA JUICE 1 L   Juices   \n",
       "\n",
       "    Qty    Sales       Date      Product Name_Clean  \n",
       "0  1116   428700 2020-12-01      ALOE + AMLA JUICE   \n",
       "1  3003  1374831 2020-12-01  ALOE + GARCINIA JUICE   \n",
       "2  2962   732167 2020-12-01        ALOE VERA JUICE   "
      ]
     },
     "execution_count": 96,
     "metadata": {},
     "output_type": "execute_result"
    }
   ],
   "source": [
    "df[\"Product Name_Clean\"]=df[\"Product Name\"].apply(quantity_omission)\n",
    "df.head(3)"
   ]
  },
  {
   "cell_type": "markdown",
   "id": "100cf02f-4a29-41c0-be85-41ff46021e02",
   "metadata": {},
   "source": [
    "## Question 5"
   ]
  },
  {
   "cell_type": "code",
   "execution_count": 97,
   "id": "dfae5e01-4e48-4026-a4fb-ab1efc622dfb",
   "metadata": {
    "tags": []
   },
   "outputs": [
    {
     "data": {
      "text/html": [
       "<div>\n",
       "<style scoped>\n",
       "    .dataframe tbody tr th:only-of-type {\n",
       "        vertical-align: middle;\n",
       "    }\n",
       "\n",
       "    .dataframe tbody tr th {\n",
       "        vertical-align: top;\n",
       "    }\n",
       "\n",
       "    .dataframe thead th {\n",
       "        text-align: right;\n",
       "    }\n",
       "</style>\n",
       "<table border=\"1\" class=\"dataframe\">\n",
       "  <thead>\n",
       "    <tr style=\"text-align: right;\">\n",
       "      <th></th>\n",
       "      <th>Product Name_Clean</th>\n",
       "      <th>Sales</th>\n",
       "    </tr>\n",
       "  </thead>\n",
       "  <tbody>\n",
       "    <tr>\n",
       "      <th>1</th>\n",
       "      <td>ALOE + GARCINIA JUICE</td>\n",
       "      <td>12249252</td>\n",
       "    </tr>\n",
       "  </tbody>\n",
       "</table>\n",
       "</div>"
      ],
      "text/plain": [
       "       Product Name_Clean     Sales\n",
       "1  ALOE + GARCINIA JUICE   12249252"
      ]
     },
     "execution_count": 97,
     "metadata": {},
     "output_type": "execute_result"
    }
   ],
   "source": [
    "# Highest selling product (based on sales) (packaging quantity doesn't matter. Ex. consider \"GET SLIM\n",
    "# JUICE 1 L\" and \"GET SLIM JUICE 500 ML\" as one product)\n",
    "# df.groupby(\"Product Name_Clean\")[\"Sales\"].sum().idxmax()\n",
    "# df.groupby(\"Product Name_Clean\")[\"Sales\"].sum().reset_index().sort_values(by=\"Sales\").iloc[-1]\n",
    "q5=df.groupby(\"Product Name_Clean\")[\"Sales\"].sum().reset_index().sort_values(by=\"Sales\",ascending=False).iloc[0:1]\n",
    "q5"
   ]
  },
  {
   "cell_type": "markdown",
   "id": "88d76055-94b0-484f-9091-7f52503acc1f",
   "metadata": {
    "tags": []
   },
   "source": [
    "## Question 6"
   ]
  },
  {
   "cell_type": "code",
   "execution_count": 98,
   "id": "d86e4d0d-e785-455e-ac18-114af0666a31",
   "metadata": {
    "tags": []
   },
   "outputs": [
    {
     "data": {
      "text/html": [
       "<div>\n",
       "<style scoped>\n",
       "    .dataframe tbody tr th:only-of-type {\n",
       "        vertical-align: middle;\n",
       "    }\n",
       "\n",
       "    .dataframe tbody tr th {\n",
       "        vertical-align: top;\n",
       "    }\n",
       "\n",
       "    .dataframe thead th {\n",
       "        text-align: right;\n",
       "    }\n",
       "</style>\n",
       "<table border=\"1\" class=\"dataframe\">\n",
       "  <thead>\n",
       "    <tr style=\"text-align: right;\">\n",
       "      <th></th>\n",
       "      <th>Unique_Products</th>\n",
       "    </tr>\n",
       "  </thead>\n",
       "  <tbody>\n",
       "    <tr>\n",
       "      <th>0</th>\n",
       "      <td>ALOE + AMLA JUICE</td>\n",
       "    </tr>\n",
       "    <tr>\n",
       "      <th>1</th>\n",
       "      <td>ALOE + GARCINIA JUICE</td>\n",
       "    </tr>\n",
       "    <tr>\n",
       "      <th>2</th>\n",
       "      <td>ALOE VERA JUICE</td>\n",
       "    </tr>\n",
       "    <tr>\n",
       "      <th>3</th>\n",
       "      <td>ALOE VERA SKIN GEL</td>\n",
       "    </tr>\n",
       "    <tr>\n",
       "      <th>4</th>\n",
       "      <td>NEEM JUICE</td>\n",
       "    </tr>\n",
       "    <tr>\n",
       "      <th>5</th>\n",
       "      <td>NONI JUICE</td>\n",
       "    </tr>\n",
       "    <tr>\n",
       "      <th>6</th>\n",
       "      <td>SLIM SHAKE - CHOCOLATE</td>\n",
       "    </tr>\n",
       "    <tr>\n",
       "      <th>7</th>\n",
       "      <td>SLIM SHAKE - MANGO</td>\n",
       "    </tr>\n",
       "    <tr>\n",
       "      <th>8</th>\n",
       "      <td>TRIPHALA JUICE</td>\n",
       "    </tr>\n",
       "    <tr>\n",
       "      <th>9</th>\n",
       "      <td>TULSI GILOY JUICE</td>\n",
       "    </tr>\n",
       "    <tr>\n",
       "      <th>10</th>\n",
       "      <td>WHEAT GRASS JUICE</td>\n",
       "    </tr>\n",
       "    <tr>\n",
       "      <th>11</th>\n",
       "      <td>AMLA JUICE</td>\n",
       "    </tr>\n",
       "    <tr>\n",
       "      <th>12</th>\n",
       "      <td>GET SLIM JUICE</td>\n",
       "    </tr>\n",
       "    <tr>\n",
       "      <th>13</th>\n",
       "      <td>HIMALAYA OIL</td>\n",
       "    </tr>\n",
       "    <tr>\n",
       "      <th>14</th>\n",
       "      <td>VIGOR MAX JUICE</td>\n",
       "    </tr>\n",
       "    <tr>\n",
       "      <th>15</th>\n",
       "      <td>ORGANIC JAGGERY POWDER</td>\n",
       "    </tr>\n",
       "    <tr>\n",
       "      <th>16</th>\n",
       "      <td>APPLE CIDER VINEGAR</td>\n",
       "    </tr>\n",
       "    <tr>\n",
       "      <th>17</th>\n",
       "      <td>VIRGIN COCONUT OIL</td>\n",
       "    </tr>\n",
       "    <tr>\n",
       "      <th>18</th>\n",
       "      <td>KARELA JAMUN JUICE</td>\n",
       "    </tr>\n",
       "    <tr>\n",
       "      <th>19</th>\n",
       "      <td>MASALA SUPERGRAIN MIX ENERGY</td>\n",
       "    </tr>\n",
       "    <tr>\n",
       "      <th>20</th>\n",
       "      <td>MASALA SUPERGRAIN MIX IMMUNITY</td>\n",
       "    </tr>\n",
       "    <tr>\n",
       "      <th>21</th>\n",
       "      <td>AMLA + GILOY JUICE</td>\n",
       "    </tr>\n",
       "    <tr>\n",
       "      <th>22</th>\n",
       "      <td>DIA FREE JUICE</td>\n",
       "    </tr>\n",
       "    <tr>\n",
       "      <th>23</th>\n",
       "      <td>IMMUNE CARE JUICE</td>\n",
       "    </tr>\n",
       "    <tr>\n",
       "      <th>24</th>\n",
       "      <td>ORGANIC GULKAND</td>\n",
       "    </tr>\n",
       "    <tr>\n",
       "      <th>25</th>\n",
       "      <td>VEGAN PROTEIN - CHOCOLATE</td>\n",
       "    </tr>\n",
       "    <tr>\n",
       "      <th>26</th>\n",
       "      <td>GET SLIM CAPSULES</td>\n",
       "    </tr>\n",
       "    <tr>\n",
       "      <th>27</th>\n",
       "      <td>RAW HONEY ( MADHU)</td>\n",
       "    </tr>\n",
       "  </tbody>\n",
       "</table>\n",
       "</div>"
      ],
      "text/plain": [
       "                    Unique_Products\n",
       "0                ALOE + AMLA JUICE \n",
       "1            ALOE + GARCINIA JUICE \n",
       "2                  ALOE VERA JUICE \n",
       "3               ALOE VERA SKIN GEL \n",
       "4                       NEEM JUICE \n",
       "5                       NONI JUICE \n",
       "6           SLIM SHAKE - CHOCOLATE \n",
       "7               SLIM SHAKE - MANGO \n",
       "8                   TRIPHALA JUICE \n",
       "9                TULSI GILOY JUICE \n",
       "10               WHEAT GRASS JUICE \n",
       "11                      AMLA JUICE \n",
       "12                  GET SLIM JUICE \n",
       "13                    HIMALAYA OIL \n",
       "14                 VIGOR MAX JUICE \n",
       "15          ORGANIC JAGGERY POWDER \n",
       "16              APPLE CIDER VINEGAR\n",
       "17              VIRGIN COCONUT OIL \n",
       "18              KARELA JAMUN JUICE \n",
       "19    MASALA SUPERGRAIN MIX ENERGY \n",
       "20  MASALA SUPERGRAIN MIX IMMUNITY \n",
       "21              AMLA + GILOY JUICE \n",
       "22                  DIA FREE JUICE \n",
       "23               IMMUNE CARE JUICE \n",
       "24                 ORGANIC GULKAND \n",
       "25       VEGAN PROTEIN - CHOCOLATE \n",
       "26               GET SLIM CAPSULES \n",
       "27              RAW HONEY ( MADHU) "
      ]
     },
     "execution_count": 98,
     "metadata": {},
     "output_type": "execute_result"
    }
   ],
   "source": [
    "# List of different products company is offering (packaging quantity doesn't matter. Ex. consider \"GET\n",
    "# SLIM JUICE 1 L\" and \"GET SLIM JUICE 500 ML\" as one product)\n",
    "q6=df[\"Product Name_Clean\"].unique()\n",
    "q6=pd.DataFrame(q6,columns=[\"Unique_Products\"])\n",
    "q6"
   ]
  },
  {
   "cell_type": "markdown",
   "id": "c6961487-1369-40db-803a-d2c56204af6c",
   "metadata": {},
   "source": [
    "## Question 7"
   ]
  },
  {
   "cell_type": "code",
   "execution_count": 106,
   "id": "b86b3285-96cb-47f3-be24-50dd9dcc7f39",
   "metadata": {
    "tags": []
   },
   "outputs": [
    {
     "name": "stderr",
     "output_type": "stream",
     "text": [
      "C:\\Users\\aksha\\anaconda3\\Lib\\site-packages\\xlsxwriter\\workbook.py:369: UserWarning: Calling close() on already closed file.\n",
      "  warn(\"Calling close() on already closed file.\")\n"
     ]
    }
   ],
   "source": [
    "# Create a single excel file to save all the outputs generated above in different subsheets.\n",
    "# \"q1\" in locals()\n",
    "# locals()[\"q1\"]\n",
    "with pd.ExcelWriter(\"AnswerFMCG.xlsx\") as writer:\n",
    "    for i in range(1,7):\n",
    "        var=\"q\"+str(i)\n",
    "        # print(type(locals()[var]))\n",
    "        locals()[var].to_excel(writer,sheet_name=f\"Ques{i}\",index=False)\n",
    "writer.close()"
   ]
  }
 ],
 "metadata": {
  "kernelspec": {
   "display_name": "Python 3 (ipykernel)",
   "language": "python",
   "name": "python3"
  },
  "language_info": {
   "codemirror_mode": {
    "name": "ipython",
    "version": 3
   },
   "file_extension": ".py",
   "mimetype": "text/x-python",
   "name": "python",
   "nbconvert_exporter": "python",
   "pygments_lexer": "ipython3",
   "version": "3.11.5"
  }
 },
 "nbformat": 4,
 "nbformat_minor": 5
}
