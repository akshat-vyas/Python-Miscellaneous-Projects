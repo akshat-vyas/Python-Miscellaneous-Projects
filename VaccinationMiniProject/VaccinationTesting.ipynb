{
 "cells": [
  {
   "cell_type": "code",
   "execution_count": 1,
   "id": "118e2dac-03ac-46ef-b57c-4b043ac99dc8",
   "metadata": {
    "tags": []
   },
   "outputs": [],
   "source": [
    "import numpy as np\n",
    "import pandas as pd\n",
    "from datetime import date, timedelta"
   ]
  },
  {
   "cell_type": "code",
   "execution_count": 2,
   "id": "708bee72-642b-4cb2-941f-cfaee951ab95",
   "metadata": {
    "tags": []
   },
   "outputs": [],
   "source": [
    "df=pd.read_excel(\"vaccine_data.xlsx\")"
   ]
  },
  {
   "cell_type": "code",
   "execution_count": 3,
   "id": "37a1afa7-0368-4af9-b803-54db6ad6cf45",
   "metadata": {
    "tags": []
   },
   "outputs": [],
   "source": [
    "def get_userinfo(uid):\n",
    "    try:\n",
    "        userframe=df[df[\"userid\"]==uid]\n",
    "        \n",
    "        if userframe[\"1st dose status\"].iloc[0]==\"yes\" and userframe[\"2nd dose status\"].iloc[0]==\"yes\":\n",
    "            print (\"Hello\",userframe[\"name\"].iloc[0],\"! You are fully vaccinated\")\n",
    "\n",
    "        elif userframe[\"1st dose status\"].iloc[0]==\"no\" and userframe[\"2nd dose status\"].iloc[0]==\"no\":\n",
    "            print(\"Please take your first dose at earliest\",userframe[\"name\"].iloc[0],\"!\")\n",
    "        \n",
    "    except IndexError as e:\n",
    "        print(\"No such user id exists\")\n",
    "        \n",
    "    else:\n",
    "        if (date.today()-userframe[\"date of 1st dose\"].dt.date.iloc[0]).days > 90 :\n",
    "            print(\"You have taken your first dose on\" , userframe[\"date of 1st dose\"].dt.date.iloc[0].strftime(\"%d-%m-%Y\") , \", please take your 2nd dose at earliest, you could take second doze after\", (userframe[\"date of 1st dose\"].dt.date.iloc[0] + timedelta(90)).strftime(\"%d-%m-%Y\"))\n",
    "        else:\n",
    "            print(\"You have taken your first dose on\" , userframe[\"date of 1st dose\"].dt.date.iloc[0].strftime(\"%d-%m-%Y\") , \", please take your 2nd dose on or after\", (userframe[\"date of 1st dose\"].dt.date.iloc[0] + timedelta(90)).strftime(\"%d-%m-%Y\") )"
   ]
  },
  {
   "cell_type": "code",
   "execution_count": 4,
   "id": "3af0d1a2-6636-41c2-890a-ff791c399836",
   "metadata": {
    "tags": []
   },
   "outputs": [],
   "source": [
    "def login(no_try=1):\n",
    "    username=\"akshat\"\n",
    "    password=\"av1234\"\n",
    "    un_input=input(\"Enter username: \")\n",
    "    pwd_input=input(\"Enter password: \")\n",
    "    if un_input==username and pwd_input==password:\n",
    "        print(\"You have successfully logged in.\")\n",
    "\n",
    "        testing=\"y\"\n",
    "        while(testing != \"n\"):\n",
    "            uid=input(\"Enter the user id of the person.\")\n",
    "            \n",
    "            get_userinfo(uid)\n",
    "            testing=input(\"Do you want to get more user info ? (y/n)\")\n",
    "    else:\n",
    "        print(\"You have entered wrong username or password.\")\n",
    "        if no_try<3:\n",
    "            print(\"Enter the credentials again\")\n",
    "            no_try=no_try+1\n",
    "            login(no_try)\n",
    "        else:\n",
    "            print(\"You have had three tries already\")        "
   ]
  },
  {
   "cell_type": "code",
   "execution_count": null,
   "id": "28875656-9dae-48f1-ab41-1072ea419a24",
   "metadata": {
    "tags": []
   },
   "outputs": [
    {
     "name": "stdin",
     "output_type": "stream",
     "text": [
      "Enter username:  akshat\n",
      "Enter password:  av2134\n"
     ]
    },
    {
     "name": "stdout",
     "output_type": "stream",
     "text": [
      "You have entered wrong username or password.\n",
      "Enter the credentials again\n"
     ]
    }
   ],
   "source": [
    "login()"
   ]
  },
  {
   "cell_type": "code",
   "execution_count": null,
   "id": "14056c35-660f-49e8-a25f-ad9394a820c1",
   "metadata": {},
   "outputs": [],
   "source": []
  },
  {
   "cell_type": "code",
   "execution_count": null,
   "id": "4670a82c-4355-4aa5-9d8d-28d6772d41b9",
   "metadata": {},
   "outputs": [],
   "source": []
  }
 ],
 "metadata": {
  "kernelspec": {
   "display_name": "Python 3 (ipykernel)",
   "language": "python",
   "name": "python3"
  },
  "language_info": {
   "codemirror_mode": {
    "name": "ipython",
    "version": 3
   },
   "file_extension": ".py",
   "mimetype": "text/x-python",
   "name": "python",
   "nbconvert_exporter": "python",
   "pygments_lexer": "ipython3",
   "version": "3.11.5"
  }
 },
 "nbformat": 4,
 "nbformat_minor": 5
}
