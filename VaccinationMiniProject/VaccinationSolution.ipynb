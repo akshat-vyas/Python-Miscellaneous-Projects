{
 "cells": [
  {
   "cell_type": "code",
   "execution_count": 83,
   "id": "ba69962d-13d6-44fe-af53-f397d9991a41",
   "metadata": {
    "tags": []
   },
   "outputs": [],
   "source": [
    "import pandas as pd\n",
    "import numpy as np\n",
    "from datetime import date, timedelta"
   ]
  },
  {
   "cell_type": "code",
   "execution_count": 2,
   "id": "697dcd76-667b-48e1-9219-db82014b6627",
   "metadata": {
    "tags": []
   },
   "outputs": [],
   "source": [
    "df=pd.read_excel(\"vaccine_data.xlsx\")"
   ]
  },
  {
   "cell_type": "code",
   "execution_count": 51,
   "id": "c74a808b-b06c-4a49-ae54-057eb72597db",
   "metadata": {
    "tags": []
   },
   "outputs": [
    {
     "data": {
      "text/html": [
       "<div>\n",
       "<style scoped>\n",
       "    .dataframe tbody tr th:only-of-type {\n",
       "        vertical-align: middle;\n",
       "    }\n",
       "\n",
       "    .dataframe tbody tr th {\n",
       "        vertical-align: top;\n",
       "    }\n",
       "\n",
       "    .dataframe thead th {\n",
       "        text-align: right;\n",
       "    }\n",
       "</style>\n",
       "<table border=\"1\" class=\"dataframe\">\n",
       "  <thead>\n",
       "    <tr style=\"text-align: right;\">\n",
       "      <th></th>\n",
       "      <th>userid</th>\n",
       "      <th>name</th>\n",
       "      <th>1st dose status</th>\n",
       "      <th>date of 1st dose</th>\n",
       "      <th>2nd dose status</th>\n",
       "      <th>date of 2nd dose</th>\n",
       "    </tr>\n",
       "  </thead>\n",
       "  <tbody>\n",
       "    <tr>\n",
       "      <th>0</th>\n",
       "      <td>p001</td>\n",
       "      <td>Chandler</td>\n",
       "      <td>yes</td>\n",
       "      <td>2021-12-30</td>\n",
       "      <td>yes</td>\n",
       "      <td>2022-03-30</td>\n",
       "    </tr>\n",
       "    <tr>\n",
       "      <th>1</th>\n",
       "      <td>p002</td>\n",
       "      <td>Joey</td>\n",
       "      <td>yes</td>\n",
       "      <td>2023-01-12</td>\n",
       "      <td>no</td>\n",
       "      <td>NaT</td>\n",
       "    </tr>\n",
       "    <tr>\n",
       "      <th>2</th>\n",
       "      <td>p003</td>\n",
       "      <td>Monica</td>\n",
       "      <td>yes</td>\n",
       "      <td>2022-03-15</td>\n",
       "      <td>yes</td>\n",
       "      <td>2022-06-23</td>\n",
       "    </tr>\n",
       "    <tr>\n",
       "      <th>3</th>\n",
       "      <td>p004</td>\n",
       "      <td>Rachel</td>\n",
       "      <td>yes</td>\n",
       "      <td>2022-02-17</td>\n",
       "      <td>no</td>\n",
       "      <td>NaT</td>\n",
       "    </tr>\n",
       "    <tr>\n",
       "      <th>4</th>\n",
       "      <td>p005</td>\n",
       "      <td>Pheobe</td>\n",
       "      <td>yes</td>\n",
       "      <td>2022-01-18</td>\n",
       "      <td>yes</td>\n",
       "      <td>2022-05-08</td>\n",
       "    </tr>\n",
       "    <tr>\n",
       "      <th>5</th>\n",
       "      <td>p006</td>\n",
       "      <td>Jenny</td>\n",
       "      <td>yes</td>\n",
       "      <td>2022-04-21</td>\n",
       "      <td>yes</td>\n",
       "      <td>2022-08-04</td>\n",
       "    </tr>\n",
       "    <tr>\n",
       "      <th>6</th>\n",
       "      <td>p007</td>\n",
       "      <td>Mike</td>\n",
       "      <td>yes</td>\n",
       "      <td>2022-03-17</td>\n",
       "      <td>no</td>\n",
       "      <td>NaT</td>\n",
       "    </tr>\n",
       "    <tr>\n",
       "      <th>7</th>\n",
       "      <td>p008</td>\n",
       "      <td>Harvey</td>\n",
       "      <td>yes</td>\n",
       "      <td>2022-01-18</td>\n",
       "      <td>yes</td>\n",
       "      <td>2022-04-28</td>\n",
       "    </tr>\n",
       "    <tr>\n",
       "      <th>8</th>\n",
       "      <td>p009</td>\n",
       "      <td>Ted</td>\n",
       "      <td>yes</td>\n",
       "      <td>2021-12-15</td>\n",
       "      <td>yes</td>\n",
       "      <td>2022-04-24</td>\n",
       "    </tr>\n",
       "    <tr>\n",
       "      <th>9</th>\n",
       "      <td>p010</td>\n",
       "      <td>Barney</td>\n",
       "      <td>no</td>\n",
       "      <td>NaT</td>\n",
       "      <td>no</td>\n",
       "      <td>NaT</td>\n",
       "    </tr>\n",
       "    <tr>\n",
       "      <th>10</th>\n",
       "      <td>p011</td>\n",
       "      <td>Robin</td>\n",
       "      <td>no</td>\n",
       "      <td>NaT</td>\n",
       "      <td>no</td>\n",
       "      <td>NaT</td>\n",
       "    </tr>\n",
       "    <tr>\n",
       "      <th>11</th>\n",
       "      <td>p012</td>\n",
       "      <td>Lily</td>\n",
       "      <td>no</td>\n",
       "      <td>NaT</td>\n",
       "      <td>no</td>\n",
       "      <td>NaT</td>\n",
       "    </tr>\n",
       "    <tr>\n",
       "      <th>12</th>\n",
       "      <td>p013</td>\n",
       "      <td>Marshal</td>\n",
       "      <td>yes</td>\n",
       "      <td>2022-02-19</td>\n",
       "      <td>yes</td>\n",
       "      <td>2022-07-19</td>\n",
       "    </tr>\n",
       "    <tr>\n",
       "      <th>13</th>\n",
       "      <td>p014</td>\n",
       "      <td>Kathie</td>\n",
       "      <td>yes</td>\n",
       "      <td>2022-02-10</td>\n",
       "      <td>yes</td>\n",
       "      <td>2022-05-31</td>\n",
       "    </tr>\n",
       "    <tr>\n",
       "      <th>14</th>\n",
       "      <td>p015</td>\n",
       "      <td>Daniel</td>\n",
       "      <td>no</td>\n",
       "      <td>NaT</td>\n",
       "      <td>no</td>\n",
       "      <td>NaT</td>\n",
       "    </tr>\n",
       "    <tr>\n",
       "      <th>15</th>\n",
       "      <td>p016</td>\n",
       "      <td>Jessica</td>\n",
       "      <td>no</td>\n",
       "      <td>NaT</td>\n",
       "      <td>no</td>\n",
       "      <td>NaT</td>\n",
       "    </tr>\n",
       "    <tr>\n",
       "      <th>16</th>\n",
       "      <td>p017</td>\n",
       "      <td>Amanda</td>\n",
       "      <td>no</td>\n",
       "      <td>NaT</td>\n",
       "      <td>no</td>\n",
       "      <td>NaT</td>\n",
       "    </tr>\n",
       "    <tr>\n",
       "      <th>17</th>\n",
       "      <td>p018</td>\n",
       "      <td>Steve</td>\n",
       "      <td>yes</td>\n",
       "      <td>2022-12-12</td>\n",
       "      <td>no</td>\n",
       "      <td>NaT</td>\n",
       "    </tr>\n",
       "    <tr>\n",
       "      <th>18</th>\n",
       "      <td>p019</td>\n",
       "      <td>Tony</td>\n",
       "      <td>yes</td>\n",
       "      <td>2022-01-27</td>\n",
       "      <td>yes</td>\n",
       "      <td>2022-05-02</td>\n",
       "    </tr>\n",
       "    <tr>\n",
       "      <th>19</th>\n",
       "      <td>p020</td>\n",
       "      <td>Donna</td>\n",
       "      <td>yes</td>\n",
       "      <td>2022-04-02</td>\n",
       "      <td>no</td>\n",
       "      <td>NaT</td>\n",
       "    </tr>\n",
       "  </tbody>\n",
       "</table>\n",
       "</div>"
      ],
      "text/plain": [
       "   userid      name 1st dose status date of 1st dose 2nd dose status  \\\n",
       "0    p001  Chandler             yes       2021-12-30             yes   \n",
       "1    p002      Joey             yes       2023-01-12              no   \n",
       "2    p003    Monica             yes       2022-03-15             yes   \n",
       "3    p004    Rachel             yes       2022-02-17              no   \n",
       "4    p005    Pheobe             yes       2022-01-18             yes   \n",
       "5    p006     Jenny             yes       2022-04-21             yes   \n",
       "6    p007      Mike             yes       2022-03-17              no   \n",
       "7    p008    Harvey             yes       2022-01-18             yes   \n",
       "8    p009       Ted             yes       2021-12-15             yes   \n",
       "9    p010    Barney              no              NaT              no   \n",
       "10   p011     Robin              no              NaT              no   \n",
       "11   p012      Lily              no              NaT              no   \n",
       "12   p013   Marshal             yes       2022-02-19             yes   \n",
       "13   p014    Kathie             yes       2022-02-10             yes   \n",
       "14   p015    Daniel              no              NaT              no   \n",
       "15   p016   Jessica              no              NaT              no   \n",
       "16   p017    Amanda              no              NaT              no   \n",
       "17   p018     Steve             yes       2022-12-12              no   \n",
       "18   p019      Tony             yes       2022-01-27             yes   \n",
       "19   p020     Donna             yes       2022-04-02              no   \n",
       "\n",
       "   date of 2nd dose  \n",
       "0        2022-03-30  \n",
       "1               NaT  \n",
       "2        2022-06-23  \n",
       "3               NaT  \n",
       "4        2022-05-08  \n",
       "5        2022-08-04  \n",
       "6               NaT  \n",
       "7        2022-04-28  \n",
       "8        2022-04-24  \n",
       "9               NaT  \n",
       "10              NaT  \n",
       "11              NaT  \n",
       "12       2022-07-19  \n",
       "13       2022-05-31  \n",
       "14              NaT  \n",
       "15              NaT  \n",
       "16              NaT  \n",
       "17              NaT  \n",
       "18       2022-05-02  \n",
       "19              NaT  "
      ]
     },
     "execution_count": 51,
     "metadata": {},
     "output_type": "execute_result"
    }
   ],
   "source": [
    "df"
   ]
  },
  {
   "cell_type": "code",
   "execution_count": 4,
   "id": "db236392-543a-4ed6-8b13-cca6ac0db46d",
   "metadata": {
    "tags": []
   },
   "outputs": [
    {
     "name": "stdout",
     "output_type": "stream",
     "text": [
      "<class 'pandas.core.frame.DataFrame'>\n",
      "RangeIndex: 20 entries, 0 to 19\n",
      "Data columns (total 6 columns):\n",
      " #   Column            Non-Null Count  Dtype         \n",
      "---  ------            --------------  -----         \n",
      " 0   userid            20 non-null     object        \n",
      " 1   name              20 non-null     object        \n",
      " 2   1st dose status   20 non-null     object        \n",
      " 3   date of 1st dose  14 non-null     datetime64[ns]\n",
      " 4   2nd dose status   20 non-null     object        \n",
      " 5   date of 2nd dose  9 non-null      datetime64[ns]\n",
      "dtypes: datetime64[ns](2), object(4)\n",
      "memory usage: 1.1+ KB\n"
     ]
    }
   ],
   "source": [
    "df.info()"
   ]
  },
  {
   "cell_type": "code",
   "execution_count": 171,
   "id": "b0c04e37-67ad-4518-9aab-f46556a78341",
   "metadata": {
    "tags": []
   },
   "outputs": [
    {
     "name": "stdout",
     "output_type": "stream",
     "text": [
      "You have taken your first dose on 12-12-2022 , please take your 2nd dose at earliest.\n"
     ]
    }
   ],
   "source": [
    "username=\"akshat\"\n",
    "password=\"av1234\"\n",
    "# un_input=input(\"Enter username: \")\n",
    "# pwd_input=input(\"Enter password: \")\n",
    "# if un_input==username and pwd_input==password:\n",
    "#     print(\"You have successfully logged in.\")\n",
    "    \n",
    "#     get_userinfo(uid)\n",
    "# else:\n",
    "#     print(\"You have entered wrong username or password.\")\n",
    "uid=\"p018\"\n",
    "get_userinfo(uid)"
   ]
  },
  {
   "cell_type": "code",
   "execution_count": 169,
   "id": "c6598d23-cc34-41cf-9edc-fca018a19acc",
   "metadata": {
    "tags": []
   },
   "outputs": [],
   "source": [
    "def get_userinfo(uid):\n",
    "    userframe=df[df[\"userid\"]==uid]\n",
    "    \n",
    "    if userframe[\"1st dose status\"].iloc[0]==\"yes\" and userframe[\"2nd dose status\"].iloc[0]==\"yes\":\n",
    "        print (\"Hello\",userframe[\"name\"].iloc[0],\"! You are fully vaccinated\")\n",
    "        \n",
    "    elif userframe[\"1st dose status\"].iloc[0]==\"no\" and userframe[\"2nd dose status\"].iloc[0]==\"no\":\n",
    "        print(\"Please take your first dose at earliest\",userframe[\"name\"].iloc[0],\"!\")\n",
    "    \n",
    "    else:\n",
    "        if (date.today()-userframe[\"date of 1st dose\"].dt.date.iloc[0]).days > 90 :\n",
    "            print(\"You have taken your first dose on\" , userframe[\"date of 1st dose\"].dt.date.iloc[0].strftime(\"%d-%m-%Y\") , \", please take your 2nd dose at earliest.\")\n",
    "        else:\n",
    "            print(\"You have taken your first dose on\" , userframe[\"date of 1st dose\"].dt.date.iloc[0].strftime(\"%d-%m-%Y\") , \", please take your 2nd dose on or after\", (userframe[\"date of 1st dose\"].dt.date.iloc[0] + timedelta(9)).strftime(\"%d-%m-%Y\") )"
   ]
  },
  {
   "cell_type": "code",
   "execution_count": 40,
   "id": "b11d0b1b-218c-494e-b2c7-b438604fb9bf",
   "metadata": {
    "tags": []
   },
   "outputs": [
    {
     "data": {
      "text/plain": [
       "'no'"
      ]
     },
     "execution_count": 40,
     "metadata": {},
     "output_type": "execute_result"
    }
   ],
   "source": [
    "df[df[\"userid\"]==\"p007\"][\"1st dose status\"].iloc[0]\n",
    "df[df[\"userid\"]==\"p007\"][\"2nd dose status\"].iloc[0]"
   ]
  },
  {
   "cell_type": "code",
   "execution_count": 49,
   "id": "d508479f-4bd9-46cf-884f-f7ee9a75bc96",
   "metadata": {
    "tags": []
   },
   "outputs": [
    {
     "data": {
      "text/html": [
       "<div>\n",
       "<style scoped>\n",
       "    .dataframe tbody tr th:only-of-type {\n",
       "        vertical-align: middle;\n",
       "    }\n",
       "\n",
       "    .dataframe tbody tr th {\n",
       "        vertical-align: top;\n",
       "    }\n",
       "\n",
       "    .dataframe thead th {\n",
       "        text-align: right;\n",
       "    }\n",
       "</style>\n",
       "<table border=\"1\" class=\"dataframe\">\n",
       "  <thead>\n",
       "    <tr style=\"text-align: right;\">\n",
       "      <th></th>\n",
       "      <th>userid</th>\n",
       "      <th>name</th>\n",
       "      <th>1st dose status</th>\n",
       "      <th>date of 1st dose</th>\n",
       "      <th>2nd dose status</th>\n",
       "      <th>date of 2nd dose</th>\n",
       "    </tr>\n",
       "  </thead>\n",
       "  <tbody>\n",
       "    <tr>\n",
       "      <th>0</th>\n",
       "      <td>p001</td>\n",
       "      <td>Chandler</td>\n",
       "      <td>yes</td>\n",
       "      <td>2021-12-30</td>\n",
       "      <td>yes</td>\n",
       "      <td>2022-03-30</td>\n",
       "    </tr>\n",
       "    <tr>\n",
       "      <th>1</th>\n",
       "      <td>p002</td>\n",
       "      <td>Joey</td>\n",
       "      <td>yes</td>\n",
       "      <td>2023-01-12</td>\n",
       "      <td>no</td>\n",
       "      <td>NaT</td>\n",
       "    </tr>\n",
       "    <tr>\n",
       "      <th>2</th>\n",
       "      <td>p003</td>\n",
       "      <td>Monica</td>\n",
       "      <td>yes</td>\n",
       "      <td>2022-03-15</td>\n",
       "      <td>yes</td>\n",
       "      <td>2022-06-23</td>\n",
       "    </tr>\n",
       "  </tbody>\n",
       "</table>\n",
       "</div>"
      ],
      "text/plain": [
       "  userid      name 1st dose status date of 1st dose 2nd dose status  \\\n",
       "0   p001  Chandler             yes       2021-12-30             yes   \n",
       "1   p002      Joey             yes       2023-01-12              no   \n",
       "2   p003    Monica             yes       2022-03-15             yes   \n",
       "\n",
       "  date of 2nd dose  \n",
       "0       2022-03-30  \n",
       "1              NaT  \n",
       "2       2022-06-23  "
      ]
     },
     "execution_count": 49,
     "metadata": {},
     "output_type": "execute_result"
    }
   ],
   "source": [
    "df.head(3)"
   ]
  },
  {
   "cell_type": "code",
   "execution_count": 78,
   "id": "50378c5a-6b1f-4945-9b51-68ff5c8a6436",
   "metadata": {
    "tags": []
   },
   "outputs": [
    {
     "data": {
      "text/plain": [
       "-130"
      ]
     },
     "execution_count": 78,
     "metadata": {},
     "output_type": "execute_result"
    }
   ],
   "source": [
    "a=df[\"date of 1st dose\"].loc[8] - df[\"date of 2nd dose\"].loc[8]\n",
    "a.days"
   ]
  },
  {
   "cell_type": "code",
   "execution_count": 82,
   "id": "4e42db63-1335-48be-b615-f819beb7d545",
   "metadata": {
    "tags": []
   },
   "outputs": [
    {
     "data": {
      "text/plain": [
       "90"
      ]
     },
     "execution_count": 82,
     "metadata": {},
     "output_type": "execute_result"
    }
   ],
   "source": [
    "abs((df[\"date of 1st dose\"].dt.date-df[\"date of 2nd dose\"].dt.date).loc[0].days)\n"
   ]
  },
  {
   "cell_type": "code",
   "execution_count": 94,
   "id": "1c26c7d2-3462-447a-a3d9-afc98abd34ff",
   "metadata": {
    "tags": []
   },
   "outputs": [
    {
     "data": {
      "text/plain": [
       "datetime.date(2023, 1, 12)"
      ]
     },
     "execution_count": 94,
     "metadata": {},
     "output_type": "execute_result"
    }
   ],
   "source": [
    "df[\"date of 1st dose\"].dt.date.loc[1]"
   ]
  },
  {
   "cell_type": "code",
   "execution_count": 134,
   "id": "9f0c83b9-e046-438b-a49d-31870160f75a",
   "metadata": {
    "tags": []
   },
   "outputs": [
    {
     "data": {
      "text/plain": [
       "'30-12-2021'"
      ]
     },
     "execution_count": 134,
     "metadata": {},
     "output_type": "execute_result"
    }
   ],
   "source": [
    "userframe=df[df[\"userid\"]==\"p001\"]\n",
    "userframe[\"date of 1st dose\"].dt.date.iloc[0].strftime(\"%d-%m-%Y\")"
   ]
  },
  {
   "cell_type": "code",
   "execution_count": 172,
   "id": "c532c5b3-8c4d-452a-ade4-d6f70b797192",
   "metadata": {
    "tags": []
   },
   "outputs": [
    {
     "data": {
      "text/plain": [
       "'21-12-2022'"
      ]
     },
     "execution_count": 172,
     "metadata": {},
     "output_type": "execute_result"
    }
   ],
   "source": [
    "userframe=df[df[\"userid\"]==\"p018\"]\n",
    "(userframe[\"date of 1st dose\"].dt.date.iloc[0] + timedelta(9)).strftime(\"%d-%m-%Y\")"
   ]
  },
  {
   "cell_type": "code",
   "execution_count": 167,
   "id": "155eef9f-6cfa-4ea2-b3fa-a72a98f60927",
   "metadata": {
    "tags": []
   },
   "outputs": [
    {
     "data": {
      "text/plain": [
       "datetime.date(2022, 12, 12)"
      ]
     },
     "execution_count": 167,
     "metadata": {},
     "output_type": "execute_result"
    }
   ],
   "source": [
    "userframe[\"date of 1st dose\"].dt.date.iloc[0]"
   ]
  },
  {
   "cell_type": "code",
   "execution_count": 176,
   "id": "07d0f1fa-7cc7-4913-86d9-a3c9fe18ecbe",
   "metadata": {
    "tags": []
   },
   "outputs": [
    {
     "data": {
      "text/plain": [
       "Timedelta('-130 days +00:00:00')"
      ]
     },
     "execution_count": 176,
     "metadata": {},
     "output_type": "execute_result"
    }
   ],
   "source": [
    "a=df[\"date of 1st dose\"].loc[8] - df[\"date of 2nd dose\"].loc[8]\n",
    "a"
   ]
  },
  {
   "cell_type": "code",
   "execution_count": null,
   "id": "c8f831c3-d473-4e79-aa44-d188daa1bd1e",
   "metadata": {},
   "outputs": [],
   "source": []
  }
 ],
 "metadata": {
  "kernelspec": {
   "display_name": "Python 3 (ipykernel)",
   "language": "python",
   "name": "python3"
  },
  "language_info": {
   "codemirror_mode": {
    "name": "ipython",
    "version": 3
   },
   "file_extension": ".py",
   "mimetype": "text/x-python",
   "name": "python",
   "nbconvert_exporter": "python",
   "pygments_lexer": "ipython3",
   "version": "3.11.5"
  }
 },
 "nbformat": 4,
 "nbformat_minor": 5
}
